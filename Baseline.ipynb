{
  "nbformat": 4,
  "nbformat_minor": 0,
  "metadata": {
    "colab": {
      "provenance": [],
      "gpuType": "T4"
    },
    "kernelspec": {
      "name": "python3",
      "display_name": "Python 3"
    },
    "language_info": {
      "name": "python"
    },
    "accelerator": "GPU"
  },
  "cells": [
    {
      "cell_type": "code",
      "source": [
        "# pc\n",
        "from collections import defaultdict\n",
        "import numpy as np"
      ],
      "metadata": {
        "id": "fIwa6wpUdLmS"
      },
      "execution_count": null,
      "outputs": []
    },
    {
      "cell_type": "code",
      "source": [
        "# pc\n",
        "train = np.loadtxt('sample_data/movielens_100k_u1.base', skiprows=0, delimiter='\\t')\n",
        "test = np.loadtxt('sample_data/movielens_100k_u1.test', skiprows=0, delimiter='\\t')"
      ],
      "metadata": {
        "id": "M3RfzlrRdYbG"
      },
      "execution_count": 5,
      "outputs": []
    },
    {
      "cell_type": "code",
      "source": [
        "train = train[:, :-1]\n",
        "test = test[:, :-1]"
      ],
      "metadata": {
        "id": "mVZ9xj_esO6D"
      },
      "execution_count": 6,
      "outputs": []
    },
    {
      "cell_type": "code",
      "source": [
        "train = train.astype('int')\n",
        "test = test.astype('int')"
      ],
      "metadata": {
        "id": "DpuK_WxfgEz2"
      },
      "execution_count": 9,
      "outputs": []
    },
    {
      "cell_type": "code",
      "source": [
        "ratingsPerUser = defaultdict(list)\n",
        "ratingsPerMovie = defaultdict(list)\n",
        "for u, m, r in train:\n",
        "  ratingsPerUser[u].append((m, r))\n",
        "  ratingsPerMovie[m].append((u, r))"
      ],
      "metadata": {
        "id": "7OPqZaUgoR3r"
      },
      "execution_count": 11,
      "outputs": []
    },
    {
      "cell_type": "code",
      "source": [
        "global_rating = train[:, -1].mean()"
      ],
      "metadata": {
        "id": "JVDGnvbJntfQ"
      },
      "execution_count": 14,
      "outputs": []
    },
    {
      "cell_type": "code",
      "source": [
        "def rmse(predict, true):\n",
        "    return np.sqrt(sum((true[i] - predict[i]) ** 2 for i in range(len(true)))\\\n",
        "                   / len(true))\n",
        ""
      ],
      "metadata": {
        "id": "oBH33kLUhEyG"
      },
      "execution_count": 21,
      "outputs": []
    },
    {
      "cell_type": "code",
      "source": [
        "def Jaccard(s1, s2):\n",
        "    num = s1.intersection(s2)\n",
        "    denom = s1.union(s2)\n",
        "    if denom != 0: return len(num) /len(denom)\n",
        "    else: return 0"
      ],
      "metadata": {
        "id": "t8MgtKl3hT1h"
      },
      "execution_count": 13,
      "outputs": []
    },
    {
      "cell_type": "code",
      "source": [
        "def predict_rating(u, m):\n",
        "    if u in ratingsPerUser and m in ratingsPerMovie:\n",
        "        users_watched_m, _ = zip(*ratingsPerMovie[m])\n",
        "        u_movies, _ = zip(*ratingsPerUser[u])\n",
        "        sims = []\n",
        "        for other_u in users_watched_m:\n",
        "            if other_u == u: continue\n",
        "            other_u_movies, _ = zip(*ratingsPerUser[other_u])\n",
        "            sims.append((Jaccard(set(u_movies), set(other_u_movies)), other_u))\n",
        "        if sims:\n",
        "            sim_user = max(sims)[-1]\n",
        "            for sim_movie, r in ratingsPerUser[sim_user]:\n",
        "                if sim_movie == m: return r\n",
        "        else: return global_rating\n",
        "    else: return global_rating"
      ],
      "metadata": {
        "id": "km1EJKagih36"
      },
      "execution_count": 15,
      "outputs": []
    },
    {
      "cell_type": "code",
      "source": [
        "predict = [predict_rating(u, m) for u, m in train[:, :-1]]\n",
        "true = train[:, -1]"
      ],
      "metadata": {
        "id": "2TqN-jqgocDz"
      },
      "execution_count": 16,
      "outputs": []
    },
    {
      "cell_type": "code",
      "source": [
        "train_rmse = rmse(predict, true)"
      ],
      "metadata": {
        "id": "BKortvrDo0a9"
      },
      "execution_count": 22,
      "outputs": []
    },
    {
      "cell_type": "code",
      "source": [
        "predict_test = [predict_rating(u, m) for u, m in test[:, :-1]]\n",
        "true_test = test[:, -1]"
      ],
      "metadata": {
        "id": "mpiblf3to4wY"
      },
      "execution_count": 18,
      "outputs": []
    },
    {
      "cell_type": "code",
      "source": [
        "test_rmse = rmse(predict_test, true_test)"
      ],
      "metadata": {
        "id": "pDkYlP51pALM"
      },
      "execution_count": 23,
      "outputs": []
    },
    {
      "cell_type": "code",
      "source": [
        "train_rmse, test_rmse"
      ],
      "metadata": {
        "colab": {
          "base_uri": "https://localhost:8080/"
        },
        "id": "KI5R3bYdpDWw",
        "outputId": "60fde26b-ccdd-4f5d-edb7-4b361863094c"
      },
      "execution_count": 24,
      "outputs": [
        {
          "output_type": "execute_result",
          "data": {
            "text/plain": [
              "(1.3454806932601842, 1.359711250948524)"
            ]
          },
          "metadata": {},
          "execution_count": 24
        }
      ]
    },
    {
      "cell_type": "code",
      "source": [],
      "metadata": {
        "id": "hGvDWSjvpE8b"
      },
      "execution_count": null,
      "outputs": []
    }
  ]
}